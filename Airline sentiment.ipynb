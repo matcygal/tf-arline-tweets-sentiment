{
 "cells": [
  {
   "cell_type": "code",
   "execution_count": null,
   "metadata": {},
   "outputs": [],
   "source": [
    "import pandas as pd\n",
    "\n",
    "PATH = './Tweets.csv'\n",
    "COLS_TO_USE = ['tweet_id', 'airline_sentiment', 'airline_sentiment_confidence', 'text']\n",
    "df1 = pd.read_csv(path, index_col = \"tweet_id\", usecols = COLS_TO_USE)\n",
    "print(df1)\n"
   ]
  },
  {
   "cell_type": "code",
   "execution_count": null,
   "metadata": {},
   "outputs": [],
   "source": [
    "import os\n",
    "import urllib.request as req\n",
    "import tarfile\n",
    "import zipfile\n",
    "\n",
    "glove_url = \"http://nlp.stanford.edu/data/glove.twitter.27B.zip\"\n",
    "\n",
    "save_filename = \"glove.twitter.27B.zip\"\n",
    "if not os.path.exists(save_filename):\n",
    "    req.urlretrieve(glove_url, save_filename)\n",
    "    \n",
    "EMBEDDING_SIZE = 50\n",
    "\n",
    "glove_filename = \"glove.twitter.27B.{}d.txt\".format(EMBEDDING_SIZE)\n",
    "if not os.path.exists(glove_filename) and EMBEDDING_SIZE in [50,100,200,300]:\n",
    "    with zipfile.Zipfile(save_filename, 'r') as z:\n",
    "        z.extractall()"
   ]
  },
  {
   "cell_type": "code",
   "execution_count": null,
   "metadata": {},
   "outputs": [],
   "source": [
    "from collection import defaultdict\n",
    "import numpy as np\n",
    "\n",
    "def load_embedding():\n",
    "    with open(glove_filename, 'r') as glove_vectors:\n",
    "        word_to_int = defaultdict(int)\n",
    "        int_to_vec = defaultdict(lambda: np.zeros([EMBEDDING_SIZE]))\n",
    "        \n",
    "        index = 1\n",
    "        \n",
    "        for line in glove_vectors:\n",
    "            fields = line.split()\n",
    "            word = str(fields[0])\n",
    "            vec = np.asarray(field[1:], np.float32)\n",
    "            word_to_int[word] = index\n",
    "            int_to_vec[index] = vec\n",
    "            index += 1\n",
    "            \n",
    "    return word_to_int, int_to_vec\n",
    "\n",
    "word_to_int, int_to_vec = load_embeddings()"
   ]
  },
  {
   "cell_type": "code",
   "execution_count": null,
   "metadata": {},
   "outputs": [],
   "source": []
  },
  {
   "cell_type": "code",
   "execution_count": null,
   "metadata": {},
   "outputs": [],
   "source": []
  }
 ],
 "metadata": {
  "kernelspec": {
   "display_name": "Python 3",
   "language": "python",
   "name": "python3"
  },
  "language_info": {
   "codemirror_mode": {
    "name": "ipython",
    "version": 3
   },
   "file_extension": ".py",
   "mimetype": "text/x-python",
   "name": "python",
   "nbconvert_exporter": "python",
   "pygments_lexer": "ipython3",
   "version": "3.7.3"
  }
 },
 "nbformat": 4,
 "nbformat_minor": 2
}
